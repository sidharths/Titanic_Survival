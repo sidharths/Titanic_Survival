{
 "metadata": {
  "kernelspec": {
   "display_name": "Python 2",
   "language": "python",
   "name": "python2"
  },
  "language_info": {
   "codemirror_mode": {
    "name": "ipython",
    "version": 2
   },
   "file_extension": ".py",
   "mimetype": "text/x-python",
   "name": "python",
   "nbconvert_exporter": "python",
   "pygments_lexer": "ipython2",
   "version": "2.7.11"
  },
  "name": "",
  "signature": "sha256:9c20958c312fca0e900b472b0bd48d8ad52eafffd9d55cfb4e0c0221bc92141e"
 },
 "nbformat": 3,
 "nbformat_minor": 0,
 "worksheets": [
  {
   "cells": [
    {
     "cell_type": "markdown",
     "metadata": {},
     "source": [
      "# Machine Learning Engineer Nanodegree\n",
      "## Introduction and Foundations\n",
      "## Project 0: Titanic Survival Exploration\n",
      "\n",
      "In 1912, the ship RMS Titanic struck an iceberg on its maiden voyage and sank, resulting in the deaths of most of its passengers and crew. In this introductory project, we will explore a subset of the RMS Titanic passenger manifest to determine which features best predict whether someone survived or did not survive. To complete this project, you will need to implement several conditional predictions and answer the questions below. Your project submission will be evaluated based on the completion of the code and your responses to the questions.\n",
      "> **Tip:** Quoted sections like this will provide helpful instructions on how to navigate and use an iPython notebook. "
     ]
    },
    {
     "cell_type": "markdown",
     "metadata": {},
     "source": [
      "# Getting Started\n",
      "To begin working with the RMS Titanic passenger data, we'll first need to `import` the functionality we need, and load our data into a `pandas` DataFrame.  \n",
      "Run the code cell below to load our data and display the first few entries (passengers) for examination using the `.head()` function.\n",
      "> **Tip:** You can run a code cell by clicking on the cell and using the keyboard shortcut **Shift + Enter** or **Shift + Return**. Alternatively, a code cell can be executed using the **Play** button in the hotbar after selecting it. Markdown cells (text cells like this one) can be edited by double-clicking, and saved using these same shortcuts. [Markdown](http://daringfireball.net/projects/markdown/syntax) allows you to write easy-to-read plain text that can be converted to HTML."
     ]
    },
    {
     "cell_type": "code",
     "collapsed": false,
     "input": [
      "import numpy as np\n",
      "import pandas as pd\n",
      "\n",
      "# RMS Titanic data visualization code \n",
      "from titanic_visualizations import survival_stats\n",
      "from IPython.display import display\n",
      "%matplotlib inline\n",
      "\n",
      "# Load the dataset\n",
      "in_file = 'titanic_data.csv'\n",
      "full_data = pd.read_csv(in_file)\n",
      "\n",
      "# Print the first few entries of the RMS Titanic data\n",
      "display(full_data.head())"
     ],
     "language": "python",
     "metadata": {},
     "outputs": [
      {
       "html": [
        "<div style=\"max-width:1500px;overflow:auto;\">\n",
        "<table border=\"1\" class=\"dataframe\">\n",
        "  <thead>\n",
        "    <tr style=\"text-align: right;\">\n",
        "      <th></th>\n",
        "      <th>PassengerId</th>\n",
        "      <th>Survived</th>\n",
        "      <th>Pclass</th>\n",
        "      <th>Name</th>\n",
        "      <th>Sex</th>\n",
        "      <th>Age</th>\n",
        "      <th>SibSp</th>\n",
        "      <th>Parch</th>\n",
        "      <th>Ticket</th>\n",
        "      <th>Fare</th>\n",
        "      <th>Cabin</th>\n",
        "      <th>Embarked</th>\n",
        "    </tr>\n",
        "  </thead>\n",
        "  <tbody>\n",
        "    <tr>\n",
        "      <th>0</th>\n",
        "      <td>1</td>\n",
        "      <td>0</td>\n",
        "      <td>3</td>\n",
        "      <td>Braund, Mr. Owen Harris</td>\n",
        "      <td>male</td>\n",
        "      <td>22</td>\n",
        "      <td>1</td>\n",
        "      <td>0</td>\n",
        "      <td>A/5 21171</td>\n",
        "      <td>7.2500</td>\n",
        "      <td>NaN</td>\n",
        "      <td>S</td>\n",
        "    </tr>\n",
        "    <tr>\n",
        "      <th>1</th>\n",
        "      <td>2</td>\n",
        "      <td>1</td>\n",
        "      <td>1</td>\n",
        "      <td>Cumings, Mrs. John Bradley (Florence Briggs Th...</td>\n",
        "      <td>female</td>\n",
        "      <td>38</td>\n",
        "      <td>1</td>\n",
        "      <td>0</td>\n",
        "      <td>PC 17599</td>\n",
        "      <td>71.2833</td>\n",
        "      <td>C85</td>\n",
        "      <td>C</td>\n",
        "    </tr>\n",
        "    <tr>\n",
        "      <th>2</th>\n",
        "      <td>3</td>\n",
        "      <td>1</td>\n",
        "      <td>3</td>\n",
        "      <td>Heikkinen, Miss. Laina</td>\n",
        "      <td>female</td>\n",
        "      <td>26</td>\n",
        "      <td>0</td>\n",
        "      <td>0</td>\n",
        "      <td>STON/O2. 3101282</td>\n",
        "      <td>7.9250</td>\n",
        "      <td>NaN</td>\n",
        "      <td>S</td>\n",
        "    </tr>\n",
        "    <tr>\n",
        "      <th>3</th>\n",
        "      <td>4</td>\n",
        "      <td>1</td>\n",
        "      <td>1</td>\n",
        "      <td>Futrelle, Mrs. Jacques Heath (Lily May Peel)</td>\n",
        "      <td>female</td>\n",
        "      <td>35</td>\n",
        "      <td>1</td>\n",
        "      <td>0</td>\n",
        "      <td>113803</td>\n",
        "      <td>53.1000</td>\n",
        "      <td>C123</td>\n",
        "      <td>S</td>\n",
        "    </tr>\n",
        "    <tr>\n",
        "      <th>4</th>\n",
        "      <td>5</td>\n",
        "      <td>0</td>\n",
        "      <td>3</td>\n",
        "      <td>Allen, Mr. William Henry</td>\n",
        "      <td>male</td>\n",
        "      <td>35</td>\n",
        "      <td>0</td>\n",
        "      <td>0</td>\n",
        "      <td>373450</td>\n",
        "      <td>8.0500</td>\n",
        "      <td>NaN</td>\n",
        "      <td>S</td>\n",
        "    </tr>\n",
        "  </tbody>\n",
        "</table>\n",
        "</div>"
       ],
       "metadata": {},
       "output_type": "display_data",
       "text": [
        "   PassengerId  Survived  Pclass  \\\n",
        "0            1         0       3   \n",
        "1            2         1       1   \n",
        "2            3         1       3   \n",
        "3            4         1       1   \n",
        "4            5         0       3   \n",
        "\n",
        "                                                Name     Sex  Age  SibSp  \\\n",
        "0                            Braund, Mr. Owen Harris    male   22      1   \n",
        "1  Cumings, Mrs. John Bradley (Florence Briggs Th...  female   38      1   \n",
        "2                             Heikkinen, Miss. Laina  female   26      0   \n",
        "3       Futrelle, Mrs. Jacques Heath (Lily May Peel)  female   35      1   \n",
        "4                           Allen, Mr. William Henry    male   35      0   \n",
        "\n",
        "   Parch            Ticket     Fare Cabin Embarked  \n",
        "0      0         A/5 21171   7.2500   NaN        S  \n",
        "1      0          PC 17599  71.2833   C85        C  \n",
        "2      0  STON/O2. 3101282   7.9250   NaN        S  \n",
        "3      0            113803  53.1000  C123        S  \n",
        "4      0            373450   8.0500   NaN        S  "
       ]
      }
     ],
     "prompt_number": 2
    },
    {
     "cell_type": "markdown",
     "metadata": {},
     "source": [
      "From a sample of the RMS Titanic data, we can see the various features present for each passenger on the ship:\n",
      "- **Survived**: Outcome of survival (0 = No; 1 = Yes)\n",
      "- **Pclass**: Socio-economic class (1 = Upper class; 2 = Middle class; 3 = Lower class)\n",
      "- **Name**: Name of passenger\n",
      "- **Sex**: Sex of the passenger\n",
      "- **Age**: Age of the passenger (Some entries contain `NaN`)\n",
      "- **SibSp**: Number of siblings and spouses of the passenger aboard\n",
      "- **Parch**: Number of parents and children of the passenger aboard\n",
      "- **Ticket**: Ticket number of the passenger\n",
      "- **Fare**: Fare paid by the passenger\n",
      "- **Cabin** Cabin number of the passenger (Some entries contain `NaN`)\n",
      "- **Embarked**: Port of embarkation of the passenger (C = Cherbourg; Q = Queenstown; S = Southampton)\n",
      "\n",
      "Since we're interested in the outcome of survival for each passenger or crew member, we can remove the **Survived** feature from this dataset and store it as its own separate variable `outcomes`. We will use these outcomes as our prediction targets.  \n",
      "Run the code block cell to remove **Survived** as a feature of the dataset and store it in `outcomes`."
     ]
    },
    {
     "cell_type": "code",
     "collapsed": false,
     "input": [
      "# Store the 'Survived' feature in a new variable and remove it from the dataset\n",
      "outcomes = full_data['Survived']\n",
      "data = full_data.drop('Survived', axis = 1)\n",
      "\n",
      "# Show the new dataset with 'Survived' removed\n",
      "display(data.head())"
     ],
     "language": "python",
     "metadata": {},
     "outputs": [
      {
       "html": [
        "<div style=\"max-width:1500px;overflow:auto;\">\n",
        "<table border=\"1\" class=\"dataframe\">\n",
        "  <thead>\n",
        "    <tr style=\"text-align: right;\">\n",
        "      <th></th>\n",
        "      <th>PassengerId</th>\n",
        "      <th>Pclass</th>\n",
        "      <th>Name</th>\n",
        "      <th>Sex</th>\n",
        "      <th>Age</th>\n",
        "      <th>SibSp</th>\n",
        "      <th>Parch</th>\n",
        "      <th>Ticket</th>\n",
        "      <th>Fare</th>\n",
        "      <th>Cabin</th>\n",
        "      <th>Embarked</th>\n",
        "    </tr>\n",
        "  </thead>\n",
        "  <tbody>\n",
        "    <tr>\n",
        "      <th>0</th>\n",
        "      <td>1</td>\n",
        "      <td>3</td>\n",
        "      <td>Braund, Mr. Owen Harris</td>\n",
        "      <td>male</td>\n",
        "      <td>22</td>\n",
        "      <td>1</td>\n",
        "      <td>0</td>\n",
        "      <td>A/5 21171</td>\n",
        "      <td>7.2500</td>\n",
        "      <td>NaN</td>\n",
        "      <td>S</td>\n",
        "    </tr>\n",
        "    <tr>\n",
        "      <th>1</th>\n",
        "      <td>2</td>\n",
        "      <td>1</td>\n",
        "      <td>Cumings, Mrs. John Bradley (Florence Briggs Th...</td>\n",
        "      <td>female</td>\n",
        "      <td>38</td>\n",
        "      <td>1</td>\n",
        "      <td>0</td>\n",
        "      <td>PC 17599</td>\n",
        "      <td>71.2833</td>\n",
        "      <td>C85</td>\n",
        "      <td>C</td>\n",
        "    </tr>\n",
        "    <tr>\n",
        "      <th>2</th>\n",
        "      <td>3</td>\n",
        "      <td>3</td>\n",
        "      <td>Heikkinen, Miss. Laina</td>\n",
        "      <td>female</td>\n",
        "      <td>26</td>\n",
        "      <td>0</td>\n",
        "      <td>0</td>\n",
        "      <td>STON/O2. 3101282</td>\n",
        "      <td>7.9250</td>\n",
        "      <td>NaN</td>\n",
        "      <td>S</td>\n",
        "    </tr>\n",
        "    <tr>\n",
        "      <th>3</th>\n",
        "      <td>4</td>\n",
        "      <td>1</td>\n",
        "      <td>Futrelle, Mrs. Jacques Heath (Lily May Peel)</td>\n",
        "      <td>female</td>\n",
        "      <td>35</td>\n",
        "      <td>1</td>\n",
        "      <td>0</td>\n",
        "      <td>113803</td>\n",
        "      <td>53.1000</td>\n",
        "      <td>C123</td>\n",
        "      <td>S</td>\n",
        "    </tr>\n",
        "    <tr>\n",
        "      <th>4</th>\n",
        "      <td>5</td>\n",
        "      <td>3</td>\n",
        "      <td>Allen, Mr. William Henry</td>\n",
        "      <td>male</td>\n",
        "      <td>35</td>\n",
        "      <td>0</td>\n",
        "      <td>0</td>\n",
        "      <td>373450</td>\n",
        "      <td>8.0500</td>\n",
        "      <td>NaN</td>\n",
        "      <td>S</td>\n",
        "    </tr>\n",
        "  </tbody>\n",
        "</table>\n",
        "</div>"
       ],
       "metadata": {},
       "output_type": "display_data",
       "text": [
        "   PassengerId  Pclass                                               Name  \\\n",
        "0            1       3                            Braund, Mr. Owen Harris   \n",
        "1            2       1  Cumings, Mrs. John Bradley (Florence Briggs Th...   \n",
        "2            3       3                             Heikkinen, Miss. Laina   \n",
        "3            4       1       Futrelle, Mrs. Jacques Heath (Lily May Peel)   \n",
        "4            5       3                           Allen, Mr. William Henry   \n",
        "\n",
        "      Sex  Age  SibSp  Parch            Ticket     Fare Cabin Embarked  \n",
        "0    male   22      1      0         A/5 21171   7.2500   NaN        S  \n",
        "1  female   38      1      0          PC 17599  71.2833   C85        C  \n",
        "2  female   26      0      0  STON/O2. 3101282   7.9250   NaN        S  \n",
        "3  female   35      1      0            113803  53.1000  C123        S  \n",
        "4    male   35      0      0            373450   8.0500   NaN        S  "
       ]
      }
     ],
     "prompt_number": 3
    },
    {
     "cell_type": "markdown",
     "metadata": {},
     "source": [
      "The very same sample of the RMS Titanic data now shows the **Survived** feature removed from the DataFrame. Note that `data` (the passenger data) and `outcomes` (the outcomes of survival) are now *paired*. That means for any passenger `data.loc[i]`, they have the survival outcome `outcome[i]`.\n",
      "\n",
      "To measure the performance of our predictions, we need a metric to score our predictions against the true outcomes of survival. Since we are interested in how *accurate* our predictions are, we will calculate the proportion of passengers where our prediction of their survival is correct. Run the code cell below to create our `accuracy_score` function and test a prediction on the first five passengers.  \n",
      "\n",
      "**Think:** *Out of the first five passengers, if we predict that all of them survived, what would you expect the accuracy of our predictions to be?*"
     ]
    },
    {
     "cell_type": "code",
     "collapsed": false,
     "input": [
      "def accuracy_score(truth, pred):\n",
      "    \"\"\" Returns accuracy score for input truth and predictions. \"\"\"\n",
      "    \n",
      "    # Ensure that the number of predictions matches number of outcomes\n",
      "    if len(truth) == len(pred): \n",
      "        \n",
      "        # Calculate and return the accuracy as a percent\n",
      "        return \"Predictions have an accuracy of {:.2f}%.\".format((truth == pred).mean()*100)\n",
      "    \n",
      "    else:\n",
      "        return \"Number of predictions does not match number of outcomes!\"\n",
      "    \n",
      "# Test the 'accuracy_score' function\n",
      "predictions = pd.Series(np.ones(5, dtype = int))\n",
      "print accuracy_score(predictions, outcomes[:5])"
     ],
     "language": "python",
     "metadata": {},
     "outputs": [
      {
       "output_type": "stream",
       "stream": "stdout",
       "text": [
        "Predictions have an accuracy of 60.00%.\n"
       ]
      }
     ],
     "prompt_number": 4
    },
    {
     "cell_type": "markdown",
     "metadata": {},
     "source": [
      "> **Tip:** If you save an iPython Notebook, the output from running code blocks will also be saved. However, the state of your workspace will be reset once a new session is started. Make sure that you run all of the code blocks from your previous session to reestablish variables and functions before picking up where you last left off.\n",
      "\n",
      "# Making Predictions\n",
      "\n",
      "If we were told to make a prediction about any passenger aboard the RMS Titanic who we did not know anything about, then the best prediction we could make would be that they did not survive. This is because we can assume that a majority of the passengers as a whole did not survive the ship sinking.  \n",
      "The function below will always predict that a passenger did not survive."
     ]
    },
    {
     "cell_type": "code",
     "collapsed": false,
     "input": [
      "def predictions_0(data):\n",
      "    \"\"\" Model with no features. Always predicts a passenger did not survive. \"\"\"\n",
      "\n",
      "    predictions = []\n",
      "    for _, passenger in data.iterrows():\n",
      "        \n",
      "        # Predict the survival of 'passenger'\n",
      "        predictions.append(0)\n",
      "    \n",
      "    # Return our predictions\n",
      "    return pd.Series(predictions)\n",
      "\n",
      "# Make the predictions\n",
      "predictions = predictions_0(data)"
     ],
     "language": "python",
     "metadata": {},
     "outputs": [],
     "prompt_number": 5
    },
    {
     "cell_type": "markdown",
     "metadata": {},
     "source": [
      "### Question 1\n",
      "*Using the RMS Titanic data, how accurate would a prediction be that none of the passengers survived?*  \n",
      "**Hint:** Run the code cell below to see the accuracy of this prediction."
     ]
    },
    {
     "cell_type": "code",
     "collapsed": false,
     "input": [
      "print accuracy_score(outcomes, predictions)"
     ],
     "language": "python",
     "metadata": {},
     "outputs": [
      {
       "output_type": "stream",
       "stream": "stdout",
       "text": [
        "Predictions have an accuracy of 61.62%.\n"
       ]
      }
     ],
     "prompt_number": 6
    },
    {
     "cell_type": "markdown",
     "metadata": {},
     "source": [
      "**Answer:** Replace this text with the prediction accuracy you found above."
     ]
    },
    {
     "cell_type": "markdown",
     "metadata": {},
     "source": [
      "Let's take a look at whether the feature **Sex** has any indication of survival rates among passengers using the `survival_stats` function. This function is defined in the `titanic_visualizations.py` Python script included with this project. The first two parameters passed to the function are the RMS Titanic data and passenger survival outcomes, respectively. The third parameter indicates which feature we want to plot survival statistics across.  \n",
      "Run the code cell below to plot the survival outcomes of passengers based on their sex."
     ]
    },
    {
     "cell_type": "code",
     "collapsed": false,
     "input": [
      "survival_stats(data, outcomes, 'Sex')"
     ],
     "language": "python",
     "metadata": {},
     "outputs": [
      {
       "metadata": {},
       "output_type": "display_data",
       "png": "[encoded data removed]",
       "text": [
        "<matplotlib.figure.Figure at 0x4e28450>"
       ]
      }
     ],
     "prompt_number": 7
    },
    {
     "cell_type": "markdown",
     "metadata": {},
     "source": [
      "Examining the survival statistics, a large majority of males did not survive the ship sinking. However, a majority of females *did* survive the ship sinking. Let's build on our previous prediction: If a passenger was female, then we will predict that they survived. Otherwise, we will predict the passenger did not survive.  \n",
      "Fill in the missing code below so that the function will make this prediction.  \n",
      "**Hint:** You can access the values of each feature for a passenger like a dictionary. For example, `passenger['Sex']` is the sex of the passenger."
     ]
    },
    {
     "cell_type": "code",
     "collapsed": false,
     "input": [
      "def predictions_1(data):\n",
      "    \"\"\" Model with one feature: \n",
      "            - Predict a passenger survived if they are female. \"\"\"\n",
      "    \n",
      "    predictions = []\n",
      "    for _, passenger in data.iterrows():\n",
      "        \n",
      "        # Remove the 'pass' statement below \n",
      "        # and write your prediction conditions here\n",
      "        if passenger['Sex']=='female':\n",
      "            predictions.append(1)\n",
      "        else:\n",
      "            predictions.append(0)\n",
      "    \n",
      "    # Return our predictions\n",
      "    return pd.Series(predictions)\n",
      "\n",
      "# Make the predictions\n",
      "predictions = predictions_1(data) "
     ],
     "language": "python",
     "metadata": {},
     "outputs": [],
     "prompt_number": 8
    },
    {
     "cell_type": "markdown",
     "metadata": {},
     "source": [
      "### Question 2\n",
      "*How accurate would a prediction be that all female passengers survived and the remaining passengers did not survive?*  \n",
      "**Hint:** Run the code cell below to see the accuracy of this prediction."
     ]
    },
    {
     "cell_type": "code",
     "collapsed": false,
     "input": [
      "print accuracy_score(outcomes, predictions)"
     ],
     "language": "python",
     "metadata": {},
     "outputs": [
      {
       "output_type": "stream",
       "stream": "stdout",
       "text": [
        "Predictions have an accuracy of 78.68%.\n"
       ]
      }
     ],
     "prompt_number": 9
    },
    {
     "cell_type": "markdown",
     "metadata": {},
     "source": [
      "**Answer**:Predictions have an accuracy of 78.68%."
     ]
    },
    {
     "cell_type": "markdown",
     "metadata": {},
     "source": [
      "Using just the **Sex** feature for each passenger, we are able to increase the accuracy of our predictions by a significant margin. Now, let's consider using an additional feature to see if we can further improve our predictions. Consider, for example, all of the male passengers aboard the RMS Titanic: Can we find a subset of those passengers that had a higher rate of survival? Let's start by looking at the **Age** of each male, by again using the `survival_stats` function. This time, we'll use a fourth parameter to filter out the data so that only passengers with the **Sex** 'male' will be included.  \n",
      "Run the code cell below to plot the survival outcomes of male passengers based on their age."
     ]
    },
    {
     "cell_type": "code",
     "collapsed": false,
     "input": [
      "survival_stats(data, outcomes, 'Age', [\"Sex == 'male'\"])"
     ],
     "language": "python",
     "metadata": {},
     "outputs": [
      {
       "metadata": {},
       "output_type": "display_data",
       "png": "[encoded data removed]",
       "text": [
        "<matplotlib.figure.Figure at 0xa9f4130>"
       ]
      },
      {
       "output_type": "stream",
       "stream": "stdout",
       "text": [
        "Passengers with missing 'Age' values: 124 (16 survived, 108 did not survive)\n"
       ]
      }
     ],
     "prompt_number": 10
    },
    {
     "cell_type": "markdown",
     "metadata": {
      "collapsed": true
     },
     "source": [
      "Examining the survival statistics, the majority of males younger then 10 survived the ship sinking, whereas most males age 10 or older *did not survive* the ship sinking. Let's continue to build on our previous prediction: If a passenger was female, then we will predict they survive. If a passenger was male and younger than 10, then we will also predict they survive. Otherwise, we will predict they do not survive.  \n",
      "Fill in the missing code below so that the function will make this prediction.  \n",
      "**Hint:** You can start your implementation of this function using the prediction code you wrote earlier from `predictions_1`."
     ]
    },
    {
     "cell_type": "code",
     "collapsed": false,
     "input": [
      "def predictions_2(data):\n",
      "    \"\"\" Model with two features: \n",
      "            - Predict a passenger survived if they are female.\n",
      "            - Predict a passenger survived if they are male and younger than 10. \"\"\"\n",
      "    \n",
      "    predictions = []\n",
      "    for _, passenger in data.iterrows():\n",
      "        \n",
      "        # Remove the 'pass' statement below \n",
      "        # and write your prediction conditions here\n",
      "        if passenger['Sex']=='female' or passenger['Sex']=='male'  and passenger['Age']<10:\n",
      "            predictions.append(1)\n",
      "        else:\n",
      "            predictions.append(0)   \n",
      "    # Return our predictions\n",
      "    return pd.Series(predictions)\n",
      "\n",
      "# Make the predictions\n",
      "predictions = predictions_2(data)"
     ],
     "language": "python",
     "metadata": {},
     "outputs": [],
     "prompt_number": 11
    },
    {
     "cell_type": "markdown",
     "metadata": {},
     "source": [
      "### Question 3\n",
      "*How accurate would a prediction be that all female passengers and all male passengers younger than 10 survived?*  \n",
      "**Hint:** Run the code cell below to see the accuracy of this prediction."
     ]
    },
    {
     "cell_type": "code",
     "collapsed": false,
     "input": [
      "print accuracy_score(outcomes, predictions)"
     ],
     "language": "python",
     "metadata": {},
     "outputs": [
      {
       "output_type": "stream",
       "stream": "stdout",
       "text": [
        "Predictions have an accuracy of 79.35%.\n"
       ]
      }
     ],
     "prompt_number": 12
    },
    {
     "cell_type": "markdown",
     "metadata": {},
     "source": [
      "**Answer**: Predictions have an accuracy of 79.35%."
     ]
    },
    {
     "cell_type": "markdown",
     "metadata": {
      "collapsed": true
     },
     "source": [
      "Adding the feature **Age** as a condition in conjunction with **Sex** improves the accuracy by a small margin more than with simply using the feature **Sex** alone. Now it's your turn: Find a series of features and conditions to split the data on to obtain an outcome prediction accuracy of at least 80%. This may require multiple features and multiple levels of conditional statements to succeed. You can use the same feature multiple times with different conditions.   \n",
      "**Pclass**, **Sex**, **Age**, **SibSp**, and **Parch** are some suggested features to try.\n",
      "\n",
      "Use the `survival_stats` function below to to examine various survival statistics.  \n",
      "**Hint:** To use mulitple filter conditions, put each condition in the list passed as the last argument. Example: `[\"Sex == 'male'\", \"Age < 18\"]`"
     ]
    },
    {
     "cell_type": "code",
     "collapsed": false,
     "input": [
      "survival_stats(data, outcomes, 'SibSp', [    \"Sex == 'female'\"   ])"
     ],
     "language": "python",
     "metadata": {},
     "outputs": [
      {
       "metadata": {},
       "output_type": "display_data",
       "png": "[encoded data removed]",
       "text": [
        "<matplotlib.figure.Figure at 0xab35190>"
       ]
      }
     ],
     "prompt_number": 13
    },
    {
     "cell_type": "markdown",
     "metadata": {},
     "source": [
      "After exploring the survival statistics visualization, fill in the missing code below so that the function will make your prediction.  \n",
      "Make sure to keep track of the various features and conditions you tried before arriving at your final prediction model.  \n",
      "**Hint:** You can start your implementation of this function using the prediction code you wrote earlier from `predictions_2`."
     ]
    },
    {
     "cell_type": "code",
     "collapsed": false,
     "input": [
      "def predictions_3(data):\n",
      "    \"\"\" Model with multiple features. Makes a prediction with an accuracy of at least 80%. \"\"\"\n",
      "    \n",
      "    predictions = []\n",
      "    for _, passenger in data.iterrows():\n",
      "        \n",
      "        # Remove the 'pass' statement below \n",
      "        # and write your prediction conditions here\n",
      "        if (passenger['Sex']=='female' and passenger['SibSp'] < 3 or \n",
      "            passenger['Sex']=='male' and passenger['Age']<10  or \n",
      "            passenger['Sex']=='male' and passenger['Fare'] > 300.0  \n",
      "             ) :\n",
      "            predictions.append(1) \n",
      "        else:\n",
      "            predictions.append(0) \n",
      "             \n",
      "    # Return our predictions\n",
      "    return pd.Series(predictions)\n",
      "\n",
      "# Make the predictions\n",
      "predictions = predictions_3(data)"
     ],
     "language": "python",
     "metadata": {},
     "outputs": [],
     "prompt_number": 16
    },
    {
     "cell_type": "markdown",
     "metadata": {},
     "source": [
      "### Question 4\n",
      "*Describe the steps you took to implement the final prediction model so that it got an accuracy of at least 80%. What features did you look at? Were certain features more informative than others? Which conditions did you use to split the survival outcomes in the data? How accurate are your predictions?*  \n",
      "**Hint:** Run the code cell below to see the accuracy of your predictions."
     ]
    },
    {
     "cell_type": "code",
     "collapsed": false,
     "input": [
      "print accuracy_score(outcomes, predictions)"
     ],
     "language": "python",
     "metadata": {},
     "outputs": [
      {
       "output_type": "stream",
       "stream": "stdout",
       "text": [
        "Predictions have an accuracy of 80.58%.\n"
       ]
      }
     ],
     "prompt_number": 17
    },
    {
     "cell_type": "markdown",
     "metadata": {},
     "source": [
      "**Answer**: Predictions have an accuracy of 80.58%. You can see in the previous plot that majority of females, with number of siblings/spouses aboard greater than 3, did not survive. My intention was to gather more information from the female stats, our base assumption was that all women survived (since most did), but on closer look I could find this intersting information that having more family aboard reduced there chances of survival, since they maybe looking for family at the time of disaster and not trying to get off the ship."
     ]
    },
    {
     "cell_type": "markdown",
     "metadata": {},
     "source": [
      "# Conclusion\n",
      "\n",
      "Congratulations on what you've accomplished here! You should now have an algorithm for predicting whether or not a person survived the Titanic disaster, based on their features. In fact, what you have done here is a manual implementation of a simple machine learning model, the _decision tree_. In a decision tree, we split the data into smaller groups, one feature at a time. Each of these splits will result in groups that are more homogeneous than the original group, so that our predictions become more accurate. The advantage of having a computer do things for us is that it will be more exhaustive and more precise than our manual exploration above. [This link](http://www.r2d3.us/visual-intro-to-machine-learning-part-1/) provides another introduction into machine learning using a decision tree.\n",
      "\n",
      "A decision tree is just one of many algorithms that fall into the category of _supervised learning_. In this Nanodegree, you'll learn about supervised learning techniques first. In supervised learning, we concern ourselves with using features of data to predict or model things with objective outcome labels. That is, each of our datapoints has a true outcome value, whether that be a category label like survival in the Titanic dataset, or a continuous value like predicting the price of a house.\n",
      "\n",
      "### Question 5\n",
      "*Can you think of an example of where supervised learning can be applied?*  \n",
      "**Hint:** Be sure to note the outcome variable to be predicted and at least two features that might be useful for making the predictions."
     ]
    },
    {
     "cell_type": "markdown",
     "metadata": {
      "collapsed": true
     },
     "source": [
      "**Answer**:  Let's say we have data of 10000 people who applied for a certain credit card and we know the outcome whether they got it or not. We are also provided with other data like annual income, credit score, number of past defaults, bankruptcies declared. Using these  features we can predict with a good percentage whether the application of a new applicant will be approved or not. Of course we would need the same details (income, credit score etc) for the new applicant."
     ]
    },
    {
     "cell_type": "markdown",
     "metadata": {},
     "source": [
      "> **Tip:** If we want to share the results of our analysis with others, we aren't limited to giving them a copy of the iPython Notebook (.ipynb) file. We can also export the Notebook output in a form that can be opened even for those without Python installed. From the **File** menu in the upper left, go to the **Download as** submenu. You can then choose a different format that can be viewed more generally, such as HTML (.html) or  \n",
      "PDF (.pdf). You may need additional packages or software to perform these exports."
     ]
    }
   ],
   "metadata": {}
  }
 ]
}